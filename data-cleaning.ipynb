{
 "cells": [
  {
   "cell_type": "code",
   "execution_count": 4,
   "id": "8cb2a1e2-366f-46ee-8bf3-bc7b02dc19ec",
   "metadata": {},
   "outputs": [
    {
     "name": "stdout",
     "output_type": "stream",
     "text": [
      "0       208500\n",
      "1       181500\n",
      "2       223500\n",
      "3       140000\n",
      "4       250000\n",
      "         ...  \n",
      "1455    175000\n",
      "1456    210000\n",
      "1457    266500\n",
      "1458    142125\n",
      "1459    147500\n",
      "Name: SalePrice, Length: 1460, dtype: int64\n",
      "0        Normal\n",
      "1        Normal\n",
      "2        Normal\n",
      "3       Abnorml\n",
      "4        Normal\n",
      "         ...   \n",
      "1455     Normal\n",
      "1456     Normal\n",
      "1457     Normal\n",
      "1458     Normal\n",
      "1459     Normal\n",
      "Name: SaleCondition, Length: 1460, dtype: object\n"
     ]
    }
   ],
   "source": [
    "from src.data_utils import *\n",
    "import pandas as pd\n",
    "csv_file_path = \"kaggle_dataset/train.csv\"\n",
    "\n",
    "\n",
    "def training_dataset():\n",
    "    df = pd.read_csv(csv_file_path)\n",
    "    labels = df[\"SalePrice\"]\n",
    "    X = df.iloc[:, 0:80]\n",
    "    \n",
    "    print(labels)\n",
    "    print(X.iloc[:, -1])\n",
    "\n",
    "training_dataset()\n",
    "# labels = labels_and_data()\n",
    "# df\n",
    "    \n",
    "    \n",
    "\n"
   ]
  }
 ],
 "metadata": {
  "kernelspec": {
   "display_name": "venv",
   "language": "python",
   "name": "python3"
  },
  "language_info": {
   "codemirror_mode": {
    "name": "ipython",
    "version": 3
   },
   "file_extension": ".py",
   "mimetype": "text/x-python",
   "name": "python",
   "nbconvert_exporter": "python",
   "pygments_lexer": "ipython3",
   "version": "3.12.3"
  }
 },
 "nbformat": 4,
 "nbformat_minor": 5
}
