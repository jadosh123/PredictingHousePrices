{
 "cells": [
  {
   "cell_type": "code",
   "execution_count": null,
   "id": "8cb2a1e2-366f-46ee-8bf3-bc7b02dc19ec",
   "metadata": {},
   "outputs": [],
   "source": []
  }
 ],
 "metadata": {
  "kernelspec": {
   "display_name": "",
   "name": ""
  },
  "language_info": {
   "name": ""
  }
 },
 "nbformat": 4,
 "nbformat_minor": 5
}
